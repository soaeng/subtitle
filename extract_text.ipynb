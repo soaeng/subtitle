{
 "cells": [
  {
   "cell_type": "markdown",
   "metadata": {},
   "source": [
    "# 📌 텍스트만 추출"
   ]
  },
  {
   "cell_type": "markdown",
   "metadata": {},
   "source": [
    "### ✏️ UTF8 인코딩 후 txt 파일로 변환해서 저장"
   ]
  },
  {
   "cell_type": "code",
   "execution_count": null,
   "metadata": {},
   "outputs": [],
   "source": [
    "import os\n",
    "import re\n",
    "import chardet\n",
    "\n",
    "# 인코딩 타입 확인\n",
    "def is_encoded(file_path):\n",
    "  rawdata = open(file_path, \"rb\").read()\n",
    "  data = chardet.detect(rawdata)\n",
    "  result = data[\"encoding\"]\n",
    "  return result\n",
    "\n",
    "# utf8로 인코딩\n",
    "def encoding_utf8(file_path, encoding_type):\n",
    "  try:\n",
    "    with open(file_path, \"r\", encoding=encoding_type) as f:\n",
    "      data = f.read()\n",
    "    \n",
    "    with open(file_path, \"w\", encoding=\"UTF8\") as f:\n",
    "      f.write(data)\n",
    "    print(file_path, \"UTF8로 인코딩 완료\")\n",
    "  \n",
    "  except:\n",
    "    print(file_path, \"변환 실패\")\n",
    "\n",
    "# 자막 텍스트만 추출\n",
    "def get_only_text(file_name):\n",
    "  # print(\"[파일명] \" + file_name)\n",
    "  sub_text = []\n",
    "  \n",
    "  # 파일 열기\n",
    "  with open(origin_path + file_name, \"rt\", encoding=\"utf-8\") as sub_file:\n",
    "    \n",
    "    # 정규식 정의\n",
    "    num = re.compile(r\"\\d*\\n\")\n",
    "    time = re.compile(r\"(\\d{2}:\\d{2}:\\d{2})\")\n",
    "    temp = re.compile(r\"'\\n' | ' '\")\n",
    "    spec = re.compile(r\"^(♬|♪|♩)\")\n",
    "    ch_list = [\"・～\"]\n",
    "    \n",
    "    # 파일 라인별로 텍스트만 추출\n",
    "    for line in sub_file:\n",
    "      if not (num.match(line) or time.search(line) or temp.match(line) or spec.search(line) or len(line)==0):\n",
    "        line = line.strip()\n",
    "        for ch in ch_list:\n",
    "          line = line.replace(ch, \"\")\n",
    "        sub_text.append(line)\n",
    "    \n",
    "  return sub_text\n",
    "\n",
    "# 추출한 텍스트 txt 파일로 저장\n",
    "def save_txt_file(content, filename):\n",
    "  filename = filename.split(\".srt\")[0]\n",
    "  file = open(refine_path + filename + \".txt\", \"w\", encoding=\"utf-8\")\n",
    "  for line in content:\n",
    "    file.write(\"%s\" % line)\n",
    "  file.close()\n",
    "\n",
    "origin_path = \"C:\\\\Users\\\\sodud\\\\study\\\\ssafy_spec_pjt\\\\subtitle\\\\data\\\\test\\\\\"\n",
    "refine_path = \"C:\\\\Users\\\\sodud\\\\study\\\\ssafy_spec_pjt\\\\subtitle\\\\data\\\\refined_text\\\\\"\n",
    "\n",
    "# 자막 폴더\n",
    "file_list = os.listdir(origin_path)\n",
    "\n",
    "# 자막 파일 목록\n",
    "sub_files = [sub_file for sub_file in file_list]\n",
    "\n",
    "for sub_file in sub_files:\n",
    "  # utf-8로 인코딩 되지 않았으면 utf-8로 인코딩\n",
    "  if is_encoded(origin_path + sub_file) != \"utf-8\":\n",
    "    encoding_utf8(origin_path + sub_file, is_encoded(origin_path + sub_file))\n",
    "  \n",
    "  # 텍스트만 추출\n",
    "  content = get_only_text(sub_file)\n",
    "  \n",
    "  # txt 파일로 저장\n",
    "  save_txt_file(content, sub_file)"
   ]
  }
 ],
 "metadata": {
  "kernelspec": {
   "display_name": "Python 3.9.12 ('base')",
   "language": "python",
   "name": "python3"
  },
  "language_info": {
   "codemirror_mode": {
    "name": "ipython",
    "version": 3
   },
   "file_extension": ".py",
   "mimetype": "text/x-python",
   "name": "python",
   "nbconvert_exporter": "python",
   "pygments_lexer": "ipython3",
   "version": "3.9.12"
  },
  "orig_nbformat": 4,
  "vscode": {
   "interpreter": {
    "hash": "eebaf1173d8d9c3c4ee9a7b8bb1432a7f576348d6cb7a26bc263375fbc310797"
   }
  }
 },
 "nbformat": 4,
 "nbformat_minor": 2
}
