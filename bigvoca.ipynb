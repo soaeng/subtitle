{
 "cells": [
  {
   "cell_type": "markdown",
   "id": "9b1a6ad2",
   "metadata": {},
   "source": [
    "# 📌 단어장 생성\n",
    "### ✏️ 형태소 분석"
   ]
  },
  {
   "cell_type": "code",
   "execution_count": 2,
   "id": "128d870b",
   "metadata": {},
   "outputs": [],
   "source": [
    "import pymongo\n",
    "import pandas as pd\n",
    "\n",
    "import MeCab\n",
    "import neologdn\n",
    "from nltk.corpus import stopwords\n",
    "\n",
    "from collections import Counter\n",
    "\n",
    "import googletrans"
   ]
  },
  {
   "cell_type": "code",
   "execution_count": null,
   "id": "259d1d8a",
   "metadata": {
    "scrolled": true
   },
   "outputs": [],
   "source": [
    "# 분석할 단어만 추출\n",
    "def is_content_word(feature):\n",
    "  \n",
    "  # 포함 품사: 명사, 동사, 형용사, 부사\n",
    "  CONTENT_WORD_POS = (\"名詞\", \"動詞\", \"形容詞\", \"副詞\")\n",
    "  # 제외 품사: 접미사, 비자립, 대명사, 미지어\n",
    "  IGNORE = (\"接尾\", \"非自立\", \"代名詞\", \"未知語\")\n",
    "\n",
    "  return feature.startswith(CONTENT_WORD_POS) and all(f not in IGNORE for f in feature.split(\",\")[:7])\n",
    "\n",
    "\n",
    "# 형태소 분석\n",
    "def morphological_analysis(data):\n",
    "  \n",
    "  text = neologdn.normalize(data[2], repeat=2)\n",
    "  text = \"\".join([i for i in text if i.isalpha() or i.isspace()])\n",
    "  \n",
    "  # 형태소 분석\n",
    "  mecab = MeCab.Tagger(\"-O wakati -F%m\\\\t --unk-feature 未知語\")\n",
    "  node = mecab.parseToNode(text)\n",
    "  \n",
    "  # 형태소 분석 결과 저장 리스트\n",
    "  # 불용어 설정\n",
    "  stop_words = stopwords.words(\"japanese\")\n",
    "  \n",
    "  word_list = []\n",
    "  \n",
    "  while node:\n",
    "    if is_content_word(node.feature):\n",
    "      \n",
    "      # 단어장에 넣을 단어 설정\n",
    "      lemma = node.feature.split(\",\")[7] if len(node.feature.split(\",\")) > 7 and node.feature.split(\",\")[7] != \"*\" else node.surface\n",
    "            \n",
    "      # 불용어 제외하고 word_list에 저장\n",
    "      if lemma not in stop_words:\n",
    "        word_list.append(lemma.split(\"-\")[0])\n",
    "      \n",
    "    node = node.next\n",
    "  \n",
    "  dbcol_subtitle.update_one({\"filename\": data[\"filename\"]}, {\"$set\": {\"words\": word_list}})\n",
    "\n",
    "    \n",
    "# 빈도수 계산  \n",
    "def word_frequency(data):\n",
    "  \n",
    "  count = Counter(data[\"words\"])\n",
    "  \n",
    "  # 단어와 빈도수 딕셔너리 저장 리스트\n",
    "  frequency = dict()\n",
    "  \n",
    "  for word, cnt in count.most_common():\n",
    "    frequency[word] = cnt\n",
    "  \n",
    "  dbcol_subtitle.update_one({\"filename\": data[\"filename\"]}, {\"$set\": {\"frequency\": frequency}})\n",
    "  \n",
    "# MongoDB와 연결\n",
    "conn = pymongo.MongoClient(\"localhost\", 27017)\n",
    "\n",
    "# DB 선택\n",
    "db = conn.soaeng\n",
    "\n",
    "# Collection 선택\n",
    "dbcol_subtitle = db.subtitle\n",
    "\n",
    "# subtitle 데이터를 프레임으로 설정\n",
    "df = pd.DataFrame(list(dbcol_subtitle.find({})))\n",
    "\n",
    "# 형태소 분석\n",
    "df.apply(morphological_analysis, axis = 1)\n",
    "\n",
    "# 빈도수 계산\n",
    "df.apply(word_frequency, axis=1)\n",
    "\n",
    "print(\"저장 완료\")"
   ]
  },
  {
   "cell_type": "markdown",
   "id": "42339252",
   "metadata": {},
   "source": [
    "### ✏️ 빈도수 통합"
   ]
  },
  {
   "cell_type": "code",
   "execution_count": 4,
   "id": "75d6fcaa",
   "metadata": {
    "scrolled": true
   },
   "outputs": [],
   "source": [
    "import pymongo\n",
    "import pandas as pd\n",
    "\n",
    "def save_words(data):\n",
    "  word_list = data[\"frequency\"]\n",
    "  for word, cnt in word_list.items():\n",
    "    if dbcol_word.find_one({\"word\": word}) != None:\n",
    "      count = dbcol_word.find_one({\"word\": word})[\"frequency\"]\n",
    "    else:\n",
    "      count = 0\n",
    "    cnt += count\n",
    "    dbcol_word.update_one({\"word\": word}, {\"$set\": {\"frequency\": cnt}}, upsert = True)\n",
    "  dbcol_subtitle.update_one({\"filename\": data[\"filename\"]}, {\"$set\": {\"check\": 1}})\n",
    "\n",
    "# MongoDB와 연결\n",
    "conn = pymongo.MongoClient(\"localhost\", 27017)\n",
    "\n",
    "# DB 선택\n",
    "db = conn.soaeng\n",
    "\n",
    "# Collection 선택\n",
    "dbcol_subtitle = db.subtitle\n",
    "dbcol_words = db.words\n",
    "\n",
    "# subtitle 데이터를 프레임으로 설정\n",
    "df = pd.DataFrame(list(dbcol_subtitle.find( {\"$or\": [{\"check\": {\"$exists\": False}}, {\"check\": {\"$eq\": 0}}]})))\n",
    "\n",
    "# print(df.apply(save_words, axis = 1))\n",
    "\n",
    "# print(\"단어 저장 완료\")"
   ]
  },
  {
   "cell_type": "markdown",
   "id": "669f6f2b",
   "metadata": {},
   "source": [
    "### ✏️ 한국어 번역\n",
    "\n",
    "#### 🔷 googletrans"
   ]
  },
  {
   "cell_type": "code",
   "execution_count": 1,
   "id": "1f54a6ea",
   "metadata": {
    "scrolled": true
   },
   "outputs": [
    {
     "ename": "NameError",
     "evalue": "name 'pymongo' is not defined",
     "output_type": "error",
     "traceback": [
      "\u001b[1;31m---------------------------------------------------------------------------\u001b[0m",
      "\u001b[1;31mNameError\u001b[0m                                 Traceback (most recent call last)",
      "Input \u001b[1;32mIn [1]\u001b[0m, in \u001b[0;36m<cell line: 20>\u001b[1;34m()\u001b[0m\n\u001b[0;32m     17\u001b[0m   dbcol_word\u001b[38;5;241m.\u001b[39mupdate_one({\u001b[38;5;124m\"\u001b[39m\u001b[38;5;124mword\u001b[39m\u001b[38;5;124m\"\u001b[39m: word}, {\u001b[38;5;124m\"\u001b[39m\u001b[38;5;124m$set\u001b[39m\u001b[38;5;124m\"\u001b[39m: {\u001b[38;5;124m\"\u001b[39m\u001b[38;5;124mkorean\u001b[39m\u001b[38;5;124m\"\u001b[39m: korean, \u001b[38;5;124m\"\u001b[39m\u001b[38;5;124mpronunciation\u001b[39m\u001b[38;5;124m\"\u001b[39m: pronunciation}})\n\u001b[0;32m     19\u001b[0m \u001b[38;5;66;03m# MongoDB와 연결\u001b[39;00m\n\u001b[1;32m---> 20\u001b[0m conn \u001b[38;5;241m=\u001b[39m \u001b[43mpymongo\u001b[49m\u001b[38;5;241m.\u001b[39mMongoClient(\u001b[38;5;124m\"\u001b[39m\u001b[38;5;124mlocalhost\u001b[39m\u001b[38;5;124m\"\u001b[39m, \u001b[38;5;241m27017\u001b[39m)\n\u001b[0;32m     22\u001b[0m \u001b[38;5;66;03m# DB 선택\u001b[39;00m\n\u001b[0;32m     23\u001b[0m db \u001b[38;5;241m=\u001b[39m conn\u001b[38;5;241m.\u001b[39msoaeng\n",
      "\u001b[1;31mNameError\u001b[0m: name 'pymongo' is not defined"
     ]
    }
   ],
   "source": [
    "from googletrans import Translator\n",
    "\n",
    "def translation_using_googletrans(data):\n",
    "    \n",
    "  word = data[\"japanese\"]\n",
    "\n",
    "  trans = Translator()\n",
    "  trans.raise_Exception = True\n",
    "\n",
    "  # 일-한 단어 번역\n",
    "  o = trans.translate(text=word, src = \"ja\", dest = \"ja\")\n",
    "  t = trans.translate(text=word, src = \"ja\", dest = \"ko\")\n",
    "    \n",
    "  pronunciation = o.pronunciation\n",
    "  korean = t.text\n",
    "\n",
    "  dbcol_word.update_one({\"japanese\": word}, {\"$set\": {\"korean\": korean, \"pronunciation\": pronunciation}})\n",
    "\n",
    "# MongoDB와 연결\n",
    "conn = pymongo.MongoClient(\"localhost\", 27017)\n",
    "\n",
    "# DB 선택\n",
    "db = conn.soaeng\n",
    "\n",
    "# Collection 선택\n",
    "dbcol_word = db.word\n",
    "\n",
    "# subtitle 데이터를 프레임으로 설정\n",
    "df = pd.DataFrame(list(dbcol_word.find( {\"$or\": [{\"korean\": {\"$exists\": False}}, {\"pronunciation\": {\"$exists\": False}}]}).sort(\"frequency\", -1).limit(2500)))\n",
    "# print(df)\n",
    "df.apply(translation_using_googletrans, axis = 1)\n",
    "\n",
    "print(\"단어 번역 완료 - google\")"
   ]
  },
  {
   "cell_type": "markdown",
   "id": "383eb05a",
   "metadata": {},
   "source": [
    "#### 🔷 papago"
   ]
  },
  {
   "cell_type": "code",
   "execution_count": 18,
   "id": "e192ef36",
   "metadata": {},
   "outputs": [
    {
     "name": "stdout",
     "output_type": "stream",
     "text": [
      "단어 번역 완료 - naver\n"
     ]
    }
   ],
   "source": [
    "import dotenv\n",
    "import os\n",
    "import pymongo\n",
    "import pandas as pd\n",
    "import requests\n",
    "\n",
    "dotenv.load_dotenv(dotenv.find_dotenv())\n",
    "client_id = os.environ[\"PAPAGO_ID\"] # 개발자센터에서 발급받은 Client ID 값\n",
    "client_secret = os.environ[\"PAPAGO_SECRET\"] # 개발자센터에서 발급받은 Client Secret 값\n",
    "\n",
    "url = \"https://openapi.naver.com/v1/papago/n2mt\"\n",
    "\n",
    "def translation_using_papago(data):\n",
    "    \n",
    "    word = data[\"japanese\"]\n",
    "    data = {\"text\" : word, \"source\" : \"ja\", \"target\": \"ko\"}\n",
    "        \n",
    "    header = {\"X-Naver-Client-Id\":client_id, \"X-Naver-Client-Secret\":client_secret}\n",
    "\n",
    "    response = requests.post(url, headers=header, data= data)\n",
    "    rescode = response.status_code\n",
    "\n",
    "    if(rescode==200):\n",
    "        t_data = response.json()\n",
    "        result = response.json()[\"message\"][\"result\"][\"translatedText\"]\n",
    "        dbcol_words.update_one({\"japanese\": word}, {\"$set\": {\"papago\": result}})\n",
    "    else:\n",
    "        print(\"Error Code:\" , rescode)\n",
    "        return 0\n",
    "    \n",
    "# MongoDB와 연결\n",
    "conn = pymongo.MongoClient(\"localhost\", 27017)\n",
    "\n",
    "# DB 선택\n",
    "db = conn.soaeng\n",
    "\n",
    "# Collection 선택\n",
    "dbcol_words = db.words\n",
    "\n",
    "# subtitle 데이터를 프레임으로 설정\n",
    "# df = pd.DataFrame(list(dbcol_word.find( {\"$or\": [{\"papago\": {\"$exists\": False}}]}).sort(\"frequency\", -1).limit(1000)))\n",
    "df = pd.DataFrame(list(dbcol_words.find( {\"$and\": [{\"papago\": {\"$exists\": False}}]}).sort(\"frequency\", -1).limit(1000)))\n",
    "# print(df)\n",
    "df.apply(translation_using_papago, axis = 1)\n",
    "\n",
    "print(\"단어 번역 완료 - naver\")"
   ]
  }
 ],
 "metadata": {
  "kernelspec": {
   "display_name": "Python 3 (ipykernel)",
   "language": "python",
   "name": "python3"
  },
  "language_info": {
   "codemirror_mode": {
    "name": "ipython",
    "version": 3
   },
   "file_extension": ".py",
   "mimetype": "text/x-python",
   "name": "python",
   "nbconvert_exporter": "python",
   "pygments_lexer": "ipython3",
   "version": "3.9.12"
  },
  "vscode": {
   "interpreter": {
    "hash": "eebaf1173d8d9c3c4ee9a7b8bb1432a7f576348d6cb7a26bc263375fbc310797"
   }
  }
 },
 "nbformat": 4,
 "nbformat_minor": 5
}
